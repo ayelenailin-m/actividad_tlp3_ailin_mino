{
 "cells": [
  {
   "cell_type": "markdown",
   "id": "498731c6",
   "metadata": {},
   "source": [
    "# Actividad - Trabajando con Series de Pandas.\n",
    "## Criterios de evaluación.\n",
    "\n",
    "* Se deben utilizar nombres de variables descriptivos y claros (Utilizar la nomeclatura correspondiente para los nombres de variables).\n",
    "* Comentarios claros y concisos que expliquen el propósito de cada sección del código.\n",
    "* Utilizar mensajes de commit **descriptivos**. (Puedes utilizar la extension CONVENTIONAL COMMIT de VS-CODE). \n",
    "* Entrega en tiempo y forma.\n",
    "* Todo el código desarrollado debe ser subido a un repositorio en GitHub (el nombre del repositorio de seguir la siguiente estructura: actividad_tlp3_nombre_apellido).\n",
    "* Para resolver las actividades se debe insertar casillas de codigo entre cada actividad del cuaderno de Jupyter\n",
    "\n",
    "### ¡Importante!\n",
    "**El incumplimiento de los criterios de evaluación restará puntos en la nota final del práctico!**"
   ]
  },
  {
   "cell_type": "markdown",
   "id": "b361a7b6",
   "metadata": {},
   "source": [
    "### **Actividad 1:** \n",
    "\n",
    "Crear Series desde diferentes estructuras.\n",
    "* Crea una Series con los números del 1 al 5\n",
    "* Crea una Series a partir de un diccionario con nombres de países como claves y sus capitales como valores."
   ]
  },
  {
   "cell_type": "code",
   "execution_count": 2,
   "id": "759d16f2",
   "metadata": {},
   "outputs": [],
   "source": [
    "# importaciones\n",
    "from pandas import Series\n",
    "from random import randint\n",
    "from numpy import mean, median, std, max"
   ]
  },
  {
   "cell_type": "code",
   "execution_count": 3,
   "id": "26009294",
   "metadata": {},
   "outputs": [
    {
     "name": "stdout",
     "output_type": "stream",
     "text": [
      "lista: [1, 2, 3, 4, 5]\n",
      "serie: 0    1\n",
      "1    2\n",
      "2    3\n",
      "3    4\n",
      "4    5\n",
      "dtype: int64\n"
     ]
    }
   ],
   "source": [
    "\n",
    "# todo:\n",
    "lista_uno_al_cinco = [1,2,3,4,5]\n",
    "\n",
    "# usamos la función series y le pasamos la lista como argumento\n",
    "serie_uno_al_cinco = Series(lista_uno_al_cinco)\n",
    "\n",
    "print(f\"lista: {lista_uno_al_cinco}\")\n",
    "print(f\"serie: {serie_uno_al_cinco}\")\n",
    "\n"
   ]
  },
  {
   "cell_type": "code",
   "execution_count": 4,
   "id": "1d07d9e0",
   "metadata": {},
   "outputs": [
    {
     "name": "stdout",
     "output_type": "stream",
     "text": [
      "diccionario: {'Japón': 'Tokio', 'Canadá': 'Ottawa', 'Australia': 'Canberra', 'Argentina': 'Buenos Aires', 'Colombia': 'Bogotá'}\n",
      "\n",
      "serie: \n",
      "Japón               Tokio\n",
      "Canadá             Ottawa\n",
      "Australia        Canberra\n",
      "Argentina    Buenos Aires\n",
      "Colombia           Bogotá\n",
      "dtype: object\n"
     ]
    }
   ],
   "source": [
    "# todo:\n",
    "# creamos un diccionario con paises\n",
    "diccionario_paises = {\"Japón\": \"Tokio\", \"Canadá\": \"Ottawa\", \"Australia\": \"Canberra\", \"Argentina\": \"Buenos Aires\", \"Colombia\": \"Bogotá\"}\n",
    "\n",
    "# usamos la función series y le pasamos el diccionario como argumento\n",
    "serie_paises = Series(diccionario_paises)\n",
    "\n",
    "# mostramos\n",
    "print(f\"diccionario: {diccionario_paises}\")\n",
    "# mostramos la serie con un salto de linea\n",
    "print(f\"\\nserie: \\n{serie_paises}\")"
   ]
  },
  {
   "cell_type": "markdown",
   "id": "0c239195",
   "metadata": {},
   "source": [
    "### **Actividad 2:** \n",
    "Acceso y selección de elementos.\n",
    "* Usa una Series con tareas (que haceres cotidianos) de una semana\n",
    "* Accede a diferentes elementos a elección.\n",
    "* Cambia los valores de los dias pares.\n"
   ]
  },
  {
   "cell_type": "code",
   "execution_count": 5,
   "id": "3611d25a",
   "metadata": {},
   "outputs": [
    {
     "name": "stdout",
     "output_type": "stream",
     "text": [
      "lunes          no morir\n",
      "martes         estudiar\n",
      "miercoles         tejer\n",
      "jueves       sobrevivir\n",
      "viernes          viciar\n",
      "sabado         trabajar\n",
      "domingo          dormir\n",
      "dtype: object\n",
      "\n",
      "Los lunes trato de no morir\n",
      "los miercoles suelo tejer\n",
      "\n",
      "dias pares cambiados:\n",
      "lunes               no morir\n",
      "martes       fuiste cambiado\n",
      "miercoles              tejer\n",
      "jueves       fuiste cambiado\n",
      "viernes               viciar\n",
      "sabado       fuiste cambiado\n",
      "domingo               dormir\n",
      "dtype: object\n"
     ]
    }
   ],
   "source": [
    "\n",
    "# todo:\n",
    "tares_cotidianas = {\"lunes\": \"no morir\", \"martes\": \"estudiar\", \"miercoles\": \"tejer\", \"jueves\": \"sobrevivir\", \"viernes\": \"viciar\", \"sabado\": \"trabajar\", \"domingo\": \"dormir\"} # estoy ocupada\n",
    "serie_tareas = Series(tares_cotidianas)\n",
    "print(serie_tareas)\n",
    "\n",
    "# acceder a elementos de la serie\n",
    "print(f\"\\nLos lunes trato de {serie_tareas['lunes']}\")\n",
    "print(f\"los miercoles suelo {serie_tareas['miercoles']}\")\n",
    "\n",
    "\n",
    "# seleccionamos los dias en posicion par (contando lunes como 1)\n",
    "dias_pares = serie_tareas.iloc[1::2].index\n",
    "# actulizamos esos dias\n",
    "serie_tareas.loc[dias_pares] = \"fuiste cambiado\"\n",
    "\n",
    "# mostramos la serie actualizada\n",
    "print(f\"\\ndias pares cambiados:\\n{serie_tareas}\")\n"
   ]
  },
  {
   "cell_type": "markdown",
   "id": "70a24b97",
   "metadata": {},
   "source": [
    "### **Actividad 3:**\n",
    "Operaciones aritméticas. \n",
    "* Realiza las operaciones basicas con 2 series cuales quieran.\n",
    "* Eleva los valores de la primer serie a 3 potencias difetentes."
   ]
  },
  {
   "cell_type": "code",
   "execution_count": 6,
   "id": "a9c8ebc7",
   "metadata": {},
   "outputs": [
    {
     "name": "stdout",
     "output_type": "stream",
     "text": [
      "suma:\n",
      "0    24\n",
      "1    23\n",
      "2    39\n",
      "3    78\n",
      "4     7\n",
      "5    14\n",
      "6    16\n",
      "dtype: int64\n",
      "\n",
      "potencia 3:\n",
      "0     64\n",
      "1      8\n",
      "2    216\n",
      "3     27\n",
      "4    216\n",
      "5    512\n",
      "6    729\n",
      "dtype: int64\n"
     ]
    }
   ],
   "source": [
    "\n",
    "# todo:\n",
    "# creamos 2 series\n",
    "serie_uno = Series([4,2,6,3,6,8,9])\n",
    "serie_dos = Series([20,21,33,75,1,6,7])\n",
    "\n",
    "# operaciones // si imprimo todas es muy largo\n",
    "suma = serie_uno + serie_dos\n",
    "resta = serie_uno - serie_dos\n",
    "multiplicacion = serie_uno * serie_dos\n",
    "división = serie_uno / serie_dos\n",
    "print(F'suma:\\n{suma}')\n",
    "\n",
    "# elevar a 3 potencias distintas\n",
    "tercera_potencia= serie_uno ** 3\n",
    "cuarta_potencia = serie_uno ** 4\n",
    "quinta_potencia = serie_uno ** 5\n",
    "print(f'\\npotencia 3:\\n{tercera_potencia}')\n"
   ]
  },
  {
   "cell_type": "markdown",
   "id": "b8dac397",
   "metadata": {},
   "source": [
    "### **Actividad 4:** \n",
    "Filtrado con condiciones.\n",
    "* Crea una Series de edades de 10 personas.\n",
    "* Muestra solo a los mayores de 18.\n",
    "* Reemplaza a los menores por \"Menor de edad\"."
   ]
  },
  {
   "cell_type": "code",
   "execution_count": 7,
   "id": "d04fd492",
   "metadata": {},
   "outputs": [
    {
     "name": "stdout",
     "output_type": "stream",
     "text": [
      "Freddy     50\n",
      "Leandro    28\n",
      "Lucas      27\n",
      "Ailin      27\n",
      "Brisa      22\n",
      "Jesús      33\n",
      "Gabriel    20\n",
      "dtype: int64\n",
      "\n",
      "después de reemplazar con .loc:\n",
      "Emily       Menor de edad\n",
      "Freddy                 50\n",
      "Leandro                28\n",
      "Matias      Menor de edad\n",
      "Lucas                  27\n",
      "Ailin                  27\n",
      "Brisa                  22\n",
      "Jesús                  33\n",
      "Jonathan    Menor de edad\n",
      "Gabriel                20\n",
      "dtype: object\n"
     ]
    }
   ],
   "source": [
    "\n",
    "# todo:\n",
    "\n",
    "# creamos la serie directamente con un diccionario\n",
    "edades = Series({\"Emily\": 4, \"Freddy\": 50, \"Leandro\": 28, \"Matias\": 1, \"Lucas\": 27, \"Ailin\": 27, \"Brisa\": 22, \"Jesús\": 33, \"Jonathan\": 11, \"Gabriel\": 20})\n",
    "\n",
    "# filtro por condicion de edad mayor a 18\n",
    "print(edades[edades > 18])\n",
    "\n",
    "# reemplazar valores\n",
    "nuevo_edades = edades.copy().astype(\"object\") # primero hago una copia para no modificar la original // convierno a tipo objeto para que acepte texto\n",
    "nuevo_edades.loc[edades < 18] = \"Menor de edad\" # uso .loc para reemplzar usando una condición\n",
    "\n",
    "print(f\"\\ndespués de reemplazar con .loc:\\n{nuevo_edades}\")\n"
   ]
  },
  {
   "cell_type": "code",
   "execution_count": 8,
   "id": "635f0b36",
   "metadata": {},
   "outputs": [
    {
     "name": "stdout",
     "output_type": "stream",
     "text": [
      "\n",
      "despues de reemplazar con .where:\n",
      "Emily       Menor de edad\n",
      "Freddy                 50\n",
      "Leandro                28\n",
      "Matias      Menor de edad\n",
      "Lucas                  27\n",
      "Ailin                  27\n",
      "Brisa                  22\n",
      "Jesús                  33\n",
      "Jonathan    Menor de edad\n",
      "Gabriel                20\n",
      "dtype: object\n"
     ]
    }
   ],
   "source": [
    "# otra versión de reemplazo\n",
    "edades_obj = edades.astype(\"object\") # convierto a objeto\n",
    "edades_con_etiquetas = edades_obj.where(edades_obj >= 18, \"Menor de edad\") # uso .where para reemplazar usando condición inversa\n",
    "\n",
    "print(F'\\ndespues de reemplazar con .where:\\n{edades_con_etiquetas}')\n"
   ]
  },
  {
   "cell_type": "markdown",
   "id": "8889d0f2",
   "metadata": {},
   "source": [
    "### Actividad 5:\n",
    "Estadísticas básicas.\n",
    "\n",
    "* Crea una Series con las notas de 10 estudiantes.\n",
    "* Calcula la media, mediana, desviación estándar y máximo.\n",
    "* Muestra cuántos estudiantes aprobaron si el mínimo para aprobar es 6.\n",
    "* Ordenar las notas de manera ascendente y descendente. "
   ]
  },
  {
   "cell_type": "code",
   "execution_count": 14,
   "id": "bc0ec844",
   "metadata": {},
   "outputs": [
    {
     "name": "stdout",
     "output_type": "stream",
     "text": [
      "\n",
      "notas estudiantes:\n",
      "0    3\n",
      "1    4\n",
      "2    4\n",
      "3    6\n",
      "4    3\n",
      "5    0\n",
      "6    2\n",
      "7    4\n",
      "8    6\n",
      "9    3\n",
      "dtype: int64\n",
      "\n",
      "media: 3.5, mediana: 3.5, desviacion estandar: 1.6881943016134133, nota maxima: 6\n",
      "\n",
      "si el minimo para aprobar fue 6, aprobaron: 2 estudiantes\n"
     ]
    }
   ],
   "source": [
    "\n",
    "# todo:\n",
    "# creamos una serie con notas de 10 estudiantes con randint\n",
    "notas_estudiantes = Series([randint(0,10) for i in range(10)]) \n",
    "print(f\"\\nnotas estudiantes:\\n{notas_estudiantes}\")\n",
    "\n",
    "# cálculos usando las funciones de numpy\n",
    "media = mean(notas_estudiantes) # media\n",
    "mediana = median(notas_estudiantes) # mediana\n",
    "desviacion_estandar = std(notas_estudiantes) # desviacion estandar\n",
    "nota_maxima = max(notas_estudiantes) # nota maxima\n",
    "\n",
    "# muestro\n",
    "print(f\"\\nmedia: {media}, mediana: {mediana}, desviacion estandar: {desviacion_estandar}, nota maxima: {nota_maxima}\")\n",
    "print(f'\\nsi el minimo para aprobar fue 6, aprobaron: {notas_estudiantes[notas_estudiantes >= 6].count()} estudiantes') # cuento usando el método count() de la serie\n"
   ]
  },
  {
   "cell_type": "code",
   "execution_count": 11,
   "id": "00702e83",
   "metadata": {},
   "outputs": [
    {
     "name": "stdout",
     "output_type": "stream",
     "text": [
      "\n",
      "notas estudiantes ordenadas en orden ascendente:\n",
      "3     0\n",
      "0     2\n",
      "2     3\n",
      "7     3\n",
      "9     3\n",
      "8     7\n",
      "6     8\n",
      "5     8\n",
      "1     9\n",
      "4    10\n",
      "dtype: int64\n",
      "\n",
      "notas estudiantes ordenadas en orden descendente:\n",
      "4    10\n",
      "1     9\n",
      "6     8\n",
      "5     8\n",
      "8     7\n",
      "7     3\n",
      "9     3\n",
      "2     3\n",
      "0     2\n",
      "3     0\n",
      "dtype: int64\n"
     ]
    }
   ],
   "source": [
    "\n",
    "# ordenamos en orden ascendente y descendente usando sort_values() de pandas\n",
    "notas_estudiantes_ascendente = notas_estudiantes.sort_values(ascending=True) # ordenamos en orden ascendente\n",
    "notas_estudiantes_descendente = notas_estudiantes.sort_values(ascending=False) # ordenamos en orden descendente\n",
    "\n",
    "print(f\"\\nnotas estudiantes ordenadas en orden ascendente:\\n{notas_estudiantes_ascendente}\")\n",
    "print(f\"\\nnotas estudiantes ordenadas en orden descendente:\\n{notas_estudiantes_descendente}\")"
   ]
  }
 ],
 "metadata": {
  "kernelspec": {
   "display_name": "env",
   "language": "python",
   "name": "python3"
  },
  "language_info": {
   "codemirror_mode": {
    "name": "ipython",
    "version": 3
   },
   "file_extension": ".py",
   "mimetype": "text/x-python",
   "name": "python",
   "nbconvert_exporter": "python",
   "pygments_lexer": "ipython3",
   "version": "3.12.9"
  }
 },
 "nbformat": 4,
 "nbformat_minor": 5
}
